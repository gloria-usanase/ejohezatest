{
 "cells": [
  {
   "cell_type": "code",
   "execution_count": 1,
   "id": "067ede67-28b0-4344-a28f-24916c6c9d07",
   "metadata": {},
   "outputs": [
    {
     "name": "stdout",
     "output_type": "stream",
     "text": [
      "Connection to PostgreSQL successful!\n"
     ]
    }
   ],
   "source": [
    "import pandas as pd\n",
    "import psycopg2\n",
    "from sqlalchemy import create_engine\n",
    "import matplotlib.pyplot as plt\n",
    "import seaborn as sns\n",
    "# Establish connection to the PostgreSQL database\n",
    "\n",
    "# Defining database credentials\n",
    "username = 'postgres'\n",
    "password = ''\n",
    "host = 'localhost'  \n",
    "port = '5432'\n",
    "database = 'ejoheza'\n",
    "\n",
    "# Create the SQLAlchemy engine\n",
    "engine = create_engine(f'postgresql://{username}:{password}@{host}:{port}/{database}')\n",
    "\n",
    "# Test the connection\n",
    "try:\n",
    "    connection = engine.connect()\n",
    "    print(\"Connection to PostgreSQL successful!\")\n",
    "    connection.close()\n",
    "except Exception as e:\n",
    "    print(f\"An error occurred: {e}\")\n"
   ]
  },
  {
   "cell_type": "code",
   "execution_count": null,
   "id": "085d0225-26d0-4d18-ada6-9ecbe67effea",
   "metadata": {},
   "outputs": [],
   "source": [
    "# Load data from the SQL tables\n",
    "member = pd.read_sql('SELECT * FROM public.member', con=engine)\n",
    "claim = pd.read_sql('SELECT * FROM public.claim', con=engine)\n",
    "contribution = pd.read_sql('SELECT * FROM public.contribution', con=engine)"
   ]
  },
  {
   "cell_type": "code",
   "execution_count": 5,
   "id": "dabaf1d5-0cfb-447e-9f96-3cf54ce14646",
   "metadata": {},
   "outputs": [
    {
     "name": "stdout",
     "output_type": "stream",
     "text": [
      "Members Table:\n",
      "                                     id                  updatedAt  createdAt  \\\n",
      "0  53ba3978-6136-4021-92e6-890ecab1a8c3 2024-04-25 22:36:57.140175 2021-03-22   \n",
      "1  bf8eb4c3-67e0-4e01-a90f-f4c72f5e31be 2024-04-25 22:02:06.473908 2023-11-24   \n",
      "2  1d569864-64fd-4da1-91b1-81d793672edb 2024-04-24 23:15:14.281018 2020-12-02   \n",
      "3  a6980144-95b6-474e-85a1-522533d5a8fa 2024-04-25 18:59:18.889136 2021-09-24   \n",
      "4  0e59c022-807a-4145-9952-cd7b2cc39239 2024-04-25 19:16:44.896745 2020-01-22   \n",
      "\n",
      "               fullName  status ubudehe                 occupation  \\\n",
      "0    NDOBA Jean de Dieu  ACTIVE   CAT_2  AGRICULTURE_AND_LIVESTOCK   \n",
      "1       MUHOZA Liberata  ACTIVE    None  AGRICULTURE_AND_LIVESTOCK   \n",
      "2      NIYONSABA Cecile  ACTIVE   CAT_3  AGRICULTURE_AND_LIVESTOCK   \n",
      "3  MUKANKUYO ANNE MARIE  ACTIVE   CAT_2  AGRICULTURE_AND_LIVESTOCK   \n",
      "4     MUKAKALISA Egidie  ACTIVE    None             PRIVATE_SECTOR   \n",
      "\n",
      "  occupationType     language          dateOfBirth  ...    units guardianId  \\\n",
      "0       INFORMAL  KINYARWANDA  1998-01-01 00:00:00  ...   31.716       None   \n",
      "1       INFORMAL  KINYARWANDA  1993-01-01 00:00:00  ...   13.249       None   \n",
      "2       INFORMAL  KINYARWANDA  1949-01-01 00:00:00  ...    0.043       None   \n",
      "3       INFORMAL  KINYARWANDA  1955-01-01 00:00:00  ...  190.134       None   \n",
      "4         FORMAL  KINYARWANDA  1980-05-12 00:00:00  ...  489.351       None   \n",
      "\n",
      "                              countryId                            provinceId  \\\n",
      "0  920a72a6-90d4-4bc7-8ff4-4b03d11c0fad  93efb09d-3221-4434-bda4-612c81d4ab6e   \n",
      "1  920a72a6-90d4-4bc7-8ff4-4b03d11c0fad  93efb09d-3221-4434-bda4-612c81d4ab6e   \n",
      "2  920a72a6-90d4-4bc7-8ff4-4b03d11c0fad  93efb09d-3221-4434-bda4-612c81d4ab6e   \n",
      "3  920a72a6-90d4-4bc7-8ff4-4b03d11c0fad  93efb09d-3221-4434-bda4-612c81d4ab6e   \n",
      "4  920a72a6-90d4-4bc7-8ff4-4b03d11c0fad  313e5f4d-d4d2-4385-bd64-06e597b848aa   \n",
      "\n",
      "                             districtId                              sectorId  \\\n",
      "0  55828754-d520-4c74-a84d-213a715fc8ef  ba0d8d5e-6da4-4fb4-9a2d-a5c2b53fbc0f   \n",
      "1  e57c18e7-019b-4b08-9e39-432aa74f0a3d  bf8cf0f4-bb2c-42cb-8960-e7635013ea16   \n",
      "2  e13c3652-fc13-48c6-b8c8-b72a50ec6516  c11f2f1c-9559-44d4-aaa0-f264b1d754e4   \n",
      "3  b4d517a6-ad35-4f71-ac82-e4c100e1d71d  0e74742a-0c42-4cc7-aeac-c342c110d6fd   \n",
      "4  a4d4d3e4-7edc-4078-b8cb-f5377fb8483a  51e9fe1f-81a9-4ef9-975e-5fe46966147d   \n",
      "\n",
      "                                 cellId                             villageId  \\\n",
      "0  4468527d-24c9-46c9-a2a0-7f3bd8956fb4  261a24d2-9da8-4d5a-9e37-30d2206df2dd   \n",
      "1  54a0e13b-0174-4e9e-98b8-4d5ef1ea2e82  0c962528-c832-4ddb-b59c-44005058880c   \n",
      "2  58b13555-51be-41cd-868e-7dffee3fe1ac  3bc142d0-8e68-4baf-aede-974b36232a27   \n",
      "3  0e85d7b7-800b-4d3e-88f4-de3bf41133c4  b25c427b-0e38-46d2-9eb5-8dcee2bc3a46   \n",
      "4  8962e127-fa31-4600-a0ec-7e2b231b0025  69a21925-0a70-4f81-b1d5-2d7e40d4e31c   \n",
      "\n",
      "  backOfficerId agegroup  \n",
      "0          None     None  \n",
      "1          None     None  \n",
      "2          None     None  \n",
      "3          None     None  \n",
      "4          None     None  \n",
      "\n",
      "[5 rows x 22 columns]\n",
      "\n",
      "Claims Table:\n",
      "                                     id                  updatedAt  \\\n",
      "0  0745e593-7f11-4f88-a8ed-dd7463af2dec 2024-06-14 15:14:57.362637   \n",
      "1  f7abb67c-0220-42b3-9c1a-18058eb4a8bb 2024-06-14 15:14:57.362637   \n",
      "2  b7f43850-8415-43f9-a477-d60c2b3715a7 2024-06-14 15:14:57.362637   \n",
      "3  45dc801a-0a3f-412e-a543-bd20adde0587 2023-03-15 10:35:57.930000   \n",
      "4  9b77bb0b-1cbc-415e-ac9f-7c6b508910f6 2024-03-12 00:06:09.278000   \n",
      "\n",
      "                   createdAt                                  status  \\\n",
      "0 2024-06-09 14:43:10.513498  PENDING_TO_BE_SIGNED_BY_HEAD_OF_SCHEME   \n",
      "1 2024-06-06 12:31:17.250233  PENDING_TO_BE_SIGNED_BY_HEAD_OF_SCHEME   \n",
      "2 2024-06-05 11:13:50.837222  PENDING_TO_BE_SIGNED_BY_HEAD_OF_SCHEME   \n",
      "3 2022-12-05 00:00:00.000000                                    PAID   \n",
      "4 2023-04-20 00:00:00.000000                                REJECTED   \n",
      "\n",
      "                                   type                          reviewedById  \\\n",
      "0  BENEFIT_TO_A_MEMBER_AGED_AT_LEAST_55  229d1a4f-14a5-4c1d-bd36-8a72aad9b2f5   \n",
      "1  BENEFIT_TO_A_MEMBER_AGED_AT_LEAST_55  9369e301-b823-42e4-aab6-e35e45c6ecbe   \n",
      "2  BENEFIT_TO_A_MEMBER_AGED_AT_LEAST_55  229d1a4f-14a5-4c1d-bd36-8a72aad9b2f5   \n",
      "3  BENEFIT_TO_A_MEMBER_AGED_AT_LEAST_55                                  None   \n",
      "4                     EDUCATION_BENEFIT                                  None   \n",
      "\n",
      "  rejectionReason                          approvedById referenceNumber  \\\n",
      "0                  324ac667-c7a4-42b8-840e-89637726beba   BC20240619391   \n",
      "1                  324ac667-c7a4-42b8-840e-89637726beba   BC20240620865   \n",
      "2                  324ac667-c7a4-42b8-840e-89637726beba   BC20240659458   \n",
      "3            None                                  None    BC0000000737   \n",
      "4            None                                  None    BC0000002505   \n",
      "\n",
      "  paymentChannel  ...                                 claimantNationalId  \\\n",
      "0   AIRTEL_MONEY  ...                                               None   \n",
      "1        MTNMOMO  ...                                               None   \n",
      "2        MTNMOMO  ...                                               None   \n",
      "3             BK  ...  \\xc30d040703029de28f0b786bf76a60d24101b7fff166...   \n",
      "4         EQUITY  ...  \\xc30d04070302b62900dc1dc5906b62d2410107d68dd9...   \n",
      "\n",
      "                                 claimantContactInfo benefitPaymentAmount  \\\n",
      "0  \\xc30d040703027f292f394aeeeae26ad24801148ed206...            73613.282   \n",
      "1  \\xc30d04070302aea101d2e3e01c9f64d24c01fad96341...            58041.321   \n",
      "2  \\xc30d0407030205ee7a3a35c5271a63d2440158ca99b7...           173851.829   \n",
      "3  \\xc30d0407030279f28ed62cd38ce365d23b012296cfea...           252590.000   \n",
      "4  \\xc30d04070302ddfc005c337ecff062d23b014356c424...                0.000   \n",
      "\n",
      "                                 userId                              memberId  \\\n",
      "0  229d1a4f-14a5-4c1d-bd36-8a72aad9b2f5  c24f5609-60f3-474f-9b49-a84e170a5efe   \n",
      "1  9369e301-b823-42e4-aab6-e35e45c6ecbe  40177b88-0faf-46a7-b43d-8a353ad95a69   \n",
      "2  229d1a4f-14a5-4c1d-bd36-8a72aad9b2f5  898c9f5d-5d63-4ddd-9252-7ab8d743d9fd   \n",
      "3                                  None  e9b113e8-4a16-4fe5-a90d-f073d4a22883   \n",
      "4                                  None  2369ce80-b440-4d6e-9fad-873c356851c7   \n",
      "\n",
      "                                 billId  dateOfDeath        claimantName  \\\n",
      "0  5ea50994-63af-41a8-9236-9e30b510e539         None                None   \n",
      "1  5ea50994-63af-41a8-9236-9e30b510e539         None                None   \n",
      "2  5ea50994-63af-41a8-9236-9e30b510e539         None                None   \n",
      "3                                  None         None    KARANGWA CHARLES   \n",
      "4                                  None         None  NDAGIJIMANA VALENS   \n",
      "\n",
      "      units     nav  \n",
      "0   338.911  168.52  \n",
      "1   344.418  168.52  \n",
      "2   969.332  168.52  \n",
      "3  1710.500  147.67  \n",
      "4     0.000    0.00  \n",
      "\n",
      "[5 rows x 24 columns]\n",
      "\n",
      "Contributions Table:\n",
      "                                     id                  updatedAt  \\\n",
      "0  98200849-e43d-47c8-9d60-a062ba4d7d23 2024-04-25 02:45:46.492993   \n",
      "1  9554522d-d5dd-4a05-a020-4871032dcdcb 2024-04-25 02:45:46.492993   \n",
      "2  8640884f-c37f-4e15-9c93-60ad977a6f3a 2024-04-25 02:45:46.492993   \n",
      "3  f5bbee9a-3681-47c9-afa7-d390a8fc0fe5 2024-04-25 02:45:46.492993   \n",
      "4  287a641a-bbf8-4ed9-bcaf-bbafb1ee8bb9 2024-04-25 02:45:46.492993   \n",
      "\n",
      "                createdAt  amount  isInvested  \\\n",
      "0 2022-02-02 20:05:53.330  1250.0        True   \n",
      "1 2022-02-02 20:05:53.731  1500.0        True   \n",
      "2 2022-02-02 20:05:53.298  1250.0        True   \n",
      "3 2022-02-02 20:05:53.346  1250.0        True   \n",
      "4 2022-02-02 20:05:53.670  1250.0        True   \n",
      "\n",
      "                               memberId                             paymentId  \\\n",
      "0  c8634fba-c1cb-4862-8821-d2a85f7d0e80  e1f7c4ab-c591-4fb1-8f68-5d663edc8d0b   \n",
      "1  761a48cd-fed1-48c1-b0bc-dadcef44f636  e1f7c4ab-c591-4fb1-8f68-5d663edc8d0b   \n",
      "2  837b6dcf-4183-4a66-b5ea-a22e80ecadf9  e1f7c4ab-c591-4fb1-8f68-5d663edc8d0b   \n",
      "3  244592f7-942a-43c5-a1ca-570e6f6927b8  e1f7c4ab-c591-4fb1-8f68-5d663edc8d0b   \n",
      "4  3594bbac-bd45-4773-83cb-0eb2e4d44e88  e1f7c4ab-c591-4fb1-8f68-5d663edc8d0b   \n",
      "\n",
      "                                 billId  \n",
      "0  e1f7c4ab-c591-4fb1-8f68-5d663edc8d0b  \n",
      "1  e1f7c4ab-c591-4fb1-8f68-5d663edc8d0b  \n",
      "2  e1f7c4ab-c591-4fb1-8f68-5d663edc8d0b  \n",
      "3  e1f7c4ab-c591-4fb1-8f68-5d663edc8d0b  \n",
      "4  e1f7c4ab-c591-4fb1-8f68-5d663edc8d0b  \n"
     ]
    }
   ],
   "source": [
    "# Display the first few rows of each table\n",
    "print(\"Members Table:\")\n",
    "print(member.head())\n",
    "print(\"\\nClaims Table:\")\n",
    "print(claim.head())\n",
    "print(\"\\nContributions Table:\")\n",
    "print(contribution.head())"
   ]
  },
  {
   "cell_type": "code",
   "execution_count": 7,
   "id": "bd5add66-c50c-4e31-84b4-c79121188888",
   "metadata": {},
   "outputs": [
    {
     "name": "stdout",
     "output_type": "stream",
     "text": [
      "id                      0\n",
      "updatedAt               0\n",
      "createdAt               0\n",
      "fullName                0\n",
      "status                  0\n",
      "ubudehe           1498894\n",
      "occupation              0\n",
      "occupationType          0\n",
      "language                0\n",
      "dateOfBirth           158\n",
      "gender                  0\n",
      "phoneNumber       2057906\n",
      "units                   0\n",
      "guardianId        3565014\n",
      "countryId               0\n",
      "provinceId          10394\n",
      "districtId          10394\n",
      "sectorId            10394\n",
      "cellId              10394\n",
      "villageId           10394\n",
      "backOfficerId     3804226\n",
      "agegroup          3813075\n",
      "dtype: int64\n",
      "id                  0\n",
      "updatedAt           0\n",
      "createdAt           0\n",
      "amount              0\n",
      "isInvested          0\n",
      "memberId            0\n",
      "paymentId           0\n",
      "billId        1970707\n",
      "dtype: int64\n",
      "id                          0\n",
      "updatedAt                   0\n",
      "createdAt                   0\n",
      "status                      0\n",
      "type                        0\n",
      "reviewedById            14811\n",
      "rejectionReason         14811\n",
      "approvedById            13653\n",
      "referenceNumber             0\n",
      "paymentChannel              0\n",
      "accountNumber           14214\n",
      "phoneNumber              3953\n",
      "paymentFrequency            0\n",
      "relationShip            17880\n",
      "claimantNationalId       5400\n",
      "claimantContactInfo      5370\n",
      "benefitPaymentAmount        0\n",
      "userId                  15791\n",
      "memberId                   57\n",
      "billId                  14282\n",
      "dateOfDeath             14959\n",
      "claimantName             5598\n",
      "units                       0\n",
      "nav                         0\n",
      "dtype: int64\n"
     ]
    }
   ],
   "source": [
    "# Initial exploratory data analysis\n",
    "# Check for missing values in the cleaned dataframes\n",
    "print(member.isnull().sum())\n",
    "print(contribution.isnull().sum())\n",
    "print(claim.isnull().sum())"
   ]
  },
  {
   "cell_type": "code",
   "execution_count": 19,
   "id": "87dce4e5-ed3a-4d3a-8c84-81e0a22be196",
   "metadata": {},
   "outputs": [],
   "source": [
    "# Clean data (handling missing values)\n",
    "member = member.dropna(subset=['id', 'gender', 'occupationType'])"
   ]
  },
  {
   "cell_type": "code",
   "execution_count": 23,
   "id": "8e728fc1-75a9-4118-8485-b158af65d6fd",
   "metadata": {},
   "outputs": [],
   "source": [
    "contribution['amount'] = contribution['amount'].fillna(0)"
   ]
  },
  {
   "cell_type": "code",
   "execution_count": 25,
   "id": "b2cee1e4-c14e-4256-ae8c-78c65c810967",
   "metadata": {},
   "outputs": [],
   "source": [
    "claim['benefitPaymentAmount'] = claim['benefitPaymentAmount'].fillna(0)"
   ]
  },
  {
   "cell_type": "code",
   "execution_count": 21,
   "id": "3ad6c292-6953-43a8-a322-afdec54635fb",
   "metadata": {},
   "outputs": [
    {
     "name": "stdout",
     "output_type": "stream",
     "text": [
      "                           updatedAt                      createdAt  \\\n",
      "count                        3813075                        3813075   \n",
      "mean   2024-04-29 19:26:13.935316736  2021-12-18 08:47:09.935705600   \n",
      "min       2024-04-24 20:23:22.544000            2018-01-01 00:00:00   \n",
      "25%    2024-04-25 00:00:07.467591936            2020-11-09 00:00:00   \n",
      "50%    2024-04-25 16:14:36.079535104            2022-01-26 00:00:00   \n",
      "75%    2024-04-25 22:08:20.979992064            2022-12-19 00:00:00   \n",
      "max       2024-06-24 22:30:44.457916     2024-06-24 22:30:44.457916   \n",
      "std                              NaN                            NaN   \n",
      "\n",
      "              units  \n",
      "count  3.813075e+06  \n",
      "mean   8.546660e+01  \n",
      "min    0.000000e+00  \n",
      "25%    6.230000e-01  \n",
      "50%    9.332000e+00  \n",
      "75%    7.736150e+01  \n",
      "max    9.306805e+04  \n",
      "std    2.796996e+02  \n"
     ]
    }
   ],
   "source": [
    "# Descriptive statistics\n",
    "print(member.describe())"
   ]
  },
  {
   "cell_type": "code",
   "execution_count": 27,
   "id": "e250931e-a1d6-41d4-87c1-3ab3dcbe8c04",
   "metadata": {},
   "outputs": [
    {
     "name": "stdout",
     "output_type": "stream",
     "text": [
      "                           updatedAt                      createdAt  \\\n",
      "count                       18965566                       18965566   \n",
      "mean   2024-04-26 20:56:00.982540544  2022-04-22 02:23:37.025539072   \n",
      "min       2024-04-24 21:08:59.630727            2018-03-14 10:50:41   \n",
      "25%    2024-04-24 22:53:40.132208128  2021-05-11 17:13:25.798500096   \n",
      "50%    2024-04-25 03:56:19.913765888  2022-04-28 21:49:46.874000128   \n",
      "75%    2024-04-25 18:06:11.136530944  2023-02-15 17:18:46.436249856   \n",
      "max       2024-06-24 23:51:59.098007     2024-06-24 19:45:01.126668   \n",
      "std                              NaN                            NaN   \n",
      "\n",
      "             amount  \n",
      "count  1.896557e+07  \n",
      "mean   2.551814e+03  \n",
      "min   -1.800000e+04  \n",
      "25%    1.250000e+03  \n",
      "50%    1.500000e+03  \n",
      "75%    2.000000e+03  \n",
      "max    6.129253e+06  \n",
      "std    4.900568e+03  \n"
     ]
    }
   ],
   "source": [
    "print(contribution.describe())"
   ]
  },
  {
   "cell_type": "code",
   "execution_count": 29,
   "id": "eeb78898-3eb9-43b3-9dea-935101c9e63e",
   "metadata": {},
   "outputs": [
    {
     "name": "stdout",
     "output_type": "stream",
     "text": [
      "                           updatedAt                      createdAt  \\\n",
      "count                          18339                          18339   \n",
      "mean   2023-09-03 17:19:33.470332672  2023-08-13 20:06:28.477009920   \n",
      "min              2020-11-12 00:00:00            2020-11-12 00:00:00   \n",
      "25%    2023-04-14 08:44:57.009499904            2023-03-29 00:00:00   \n",
      "50%       2023-11-01 23:28:42.452000            2023-10-17 00:00:00   \n",
      "75%    2024-05-09 03:17:40.823083008            2024-03-07 00:00:00   \n",
      "max       2024-06-24 20:22:39.841182     2024-06-24 18:42:30.299161   \n",
      "std                              NaN                            NaN   \n",
      "\n",
      "       benefitPaymentAmount         units           nav  \n",
      "count          1.833900e+04  18339.000000  18339.000000  \n",
      "mean           5.448323e+04    280.025982    111.374157  \n",
      "min            0.000000e+00      0.000000      0.000000  \n",
      "25%            2.025500e+04      0.000000      0.000000  \n",
      "50%            4.081900e+04    216.220000    152.500000  \n",
      "75%            7.186000e+04    397.735000    164.610000  \n",
      "max            8.400863e+06  50858.776000    169.200000  \n",
      "std            1.125072e+05    677.492803     72.785013  \n"
     ]
    }
   ],
   "source": [
    "print(claim.describe())"
   ]
  },
  {
   "cell_type": "code",
   "execution_count": null,
   "id": "e34ac166-c4fd-4aff-97e4-1faabd56b088",
   "metadata": {},
   "outputs": [],
   "source": [
    "# Visualize distribution of contributions\n",
    "sns.histplot(contribution['amount'], kde=True)\n",
    "plt.title('Distribution of Contribution Amounts')\n",
    "plt.show()"
   ]
  },
  {
   "cell_type": "code",
   "execution_count": 38,
   "id": "b2db60fa-4243-4b05-ad93-b65ed780beca",
   "metadata": {},
   "outputs": [
    {
     "data": {
      "image/png": "[encoded data removed]",
      "text/plain": [
       "<Figure size 640x480 with 1 Axes>"
      ]
     },
     "metadata": {},
     "output_type": "display_data"
    }
   ],
   "source": [
    "# Visualize claims by type\n",
    "sns.countplot(x='type', data=claim)\n",
    "plt.title('Number of Claims by Type')\n",
    "plt.show()"
   ]
  },
  {
   "cell_type": "code",
   "execution_count": null,
   "id": "c493676b-1305-4233-9b58-180891723c6b",
   "metadata": {},
   "outputs": [],
   "source": [
    "# Analyze contribution frequency by sector\n",
    "sns.countplot(x='occupationType', data=member)\n",
    "plt.title('Contribution Frequency by Sector')\n",
    "plt.show()"
   ]
  },
  {
   "cell_type": "code",
   "execution_count": null,
   "id": "d7301473-72cb-48bf-a57f-1cfa91582a5a",
   "metadata": {},
   "outputs": [],
   "source": [
    "# Key trends in contributions\n",
    "contribution_trends = contribution.groupby('date')['amount'].sum().plot(title='Contribution Trends Over Time')\n",
    "plt.show()"
   ]
  },
  {
   "cell_type": "code",
   "execution_count": null,
   "id": "f7261f48-770c-4a4c-80a8-f6a3b6876c4f",
   "metadata": {},
   "outputs": [],
   "source": [
    "# Key trends in claims\n",
    "claim_trends = claim.groupby('date')['benefitPaymentAmount'].sum().plot(title='Claim Trends Over Time')\n",
    "plt.show()"
   ]
  },
  {
   "cell_type": "code",
   "execution_count": null,
   "id": "8c77b004-09e6-4bf4-a53b-7cf83790ce06",
   "metadata": {},
   "outputs": [],
   "source": [
    "## 2\n",
    "# Contribution frequency by sector and gender\n",
    "contribution_freq = contribution.merge(member, on='id') \\\n",
    "    .groupby(['occupationType', 'gender'])['amount'].count().reset_index(name='contribution_count')\n",
    "print(contribution_freq)"
   ]
  },
  {
   "cell_type": "code",
   "execution_count": null,
   "id": "74ee4471-2069-4330-b123-1d28ed68a69d",
   "metadata": {},
   "outputs": [],
   "source": [
    "# Average contribution amount by member type\n",
    "avg_contribution = contribution.merge(member, on='id') \\\n",
    "    .groupby(['ageGroup', 'occupationType'])['amount'].mean().reset_index(name='avg_contribution')\n",
    "print(avg_contribution)"
   ]
  },
  {
   "cell_type": "code",
   "execution_count": null,
   "id": "5be32dd9-e39d-483d-ae4b-c78f4a187456",
   "metadata": {},
   "outputs": [],
   "source": [
    "# Loss ratio\n",
    "total_contributions = contribution.groupby('member_id')['amount'].sum()\n",
    "total_claims = claim.groupby('member_id')['benefitPaymentAmount'].sum()\n",
    "loss_ratio = total_claims / total_contributions\n",
    "loss_ratio = loss_ratio.reset_index(name='loss_ratio')\n",
    "print(loss_ratio)"
   ]
  },
  {
   "cell_type": "code",
   "execution_count": null,
   "id": "6de872bb-75b5-4264-bf48-add4cf63e881",
   "metadata": {},
   "outputs": [],
   "source": [
    "# Correlation analysis (e.g., age group vs. claim amount)\n",
    "claim_analysis = claims.merge(member, on='id')\n",
    "correlation = claim_analysis.groupby('ageGroup')['benefitPaymentAmount'].mean().reset_index()\n",
    "print(correlation)"
   ]
  },
  {
   "cell_type": "code",
   "execution_count": null,
   "id": "a045a37e-f798-4bc3-9cb6-73c73e671b11",
   "metadata": {},
   "outputs": [],
   "source": [
    "# Contribution score calculation\n",
    "members['contribution_score'] = contribution.groupby('member_id')['amount'].sum() / contribution.groupby('member_id')['amount'].mean()\n"
   ]
  },
  {
   "cell_type": "code",
   "execution_count": null,
   "id": "4e5ee3c8-3b4f-4695-8e5a-431f380d5704",
   "metadata": {},
   "outputs": [],
   "source": [
    "##3\n",
    "# Performance analysis by member category\n",
    "performance_analysis = contribution.merge(claim, on='member_id', how='left') \\\n",
    "    .merge(member, on='id') \\\n",
    "    .groupby(['occupationType', 'ageGroup']) \\\n",
    "    .agg(total_contributions=('amount', 'sum'), total_claims=('benefitPaymentAmount', 'sum'), member_count=('id', 'count'))\n",
    "print(performance_analysis)"
   ]
  },
  {
   "cell_type": "code",
   "execution_count": null,
   "id": "317601a3-3980-4033-8995-9c9fb9f4443e",
   "metadata": {},
   "outputs": [],
   "source": [
    "# Identify less active members\n",
    "X = 5\n",
    "active_members = contribution.groupby('member_id')['amount'].count()\n",
    "less_active_members = active_members[active_members <= X]  # X = threshold\n",
    "print(less_active_members)"
   ]
  },
  {
   "cell_type": "code",
   "execution_count": null,
   "id": "38850406-0e59-468a-8a17-8b6c5e7f82c4",
   "metadata": {},
   "outputs": [],
   "source": [
    "# Relationship between contribution patterns and claim behavior\n",
    "contribution_claim_behavior = contribution.groupby('member_id')['amount'].mean() \\\n",
    "    .reset_index().merge(claim.groupby('member_id')['benefitPaymentAmount'].mean().reset_index(), on='member_id')\n",
    "print(contribution_claim_behavior)"
   ]
  }
 ],
 "metadata": {
  "kernelspec": {
   "display_name": "Python 3 (ipykernel)",
   "language": "python",
   "name": "python3"
  },
  "language_info": {
   "codemirror_mode": {
    "name": "ipython",
    "version": 3
   },
   "file_extension": ".py",
   "mimetype": "text/x-python",
   "name": "python",
   "nbconvert_exporter": "python",
   "pygments_lexer": "ipython3",
   "version": "3.12.4"
  }
 },
 "nbformat": 4,
 "nbformat_minor": 5
}
